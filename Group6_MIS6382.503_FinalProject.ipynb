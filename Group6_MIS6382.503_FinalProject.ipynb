{
 "cells": [
  {
   "cell_type": "markdown",
   "id": "0224d4f8",
   "metadata": {},
   "source": [
    "# Meteorite Landings"
   ]
  },
  {
   "cell_type": "markdown",
   "id": "73664588",
   "metadata": {},
   "source": [
    "Introduction:\n",
    "Meteorites are fascinating objects that have captivated the imaginations of people for centuries. These extraterrestrial objects provide a wealth of information about the origins and evolution of our solar system.\n",
    "Our objective is to analyze various parameters associated with meteorite landings. We will be displaying various findings of our data graphically through this document.\n",
    "\n",
    "About Dataset :\n",
    "The meteorite landings dataset maintained by NASA is a comprehensive collection of data on meteorites that have been found on Earth. The dataset contains information on the name, ID, geolocation, latitude, longitude, class, mass, fell/found, name type, and year of each meteorite. This dataset has been widely used in research and provides valuable information for understanding the composition and origins of meteorites.There is date/time vairable as required. Multiple categorical vaiables and numerical values are also present.The dataset has 10 columns and 45715 rows.\n",
    "\n",
    "Reading Dataset :\n",
    "The name of our dataset is 'Meteorite_Landings.csv' and we have utilized various libraries by importing them. We have used: pandas, numpy, matplotlib, seaborn and contextily."
   ]
  },
  {
   "cell_type": "code",
   "execution_count": 3,
   "id": "f626b15e",
   "metadata": {},
   "outputs": [],
   "source": [
    "import pandas as pd\n",
    "import numpy as np\n",
    "import matplotlib.pyplot as plt\n",
    "import seaborn as sns\n",
    "import plotly.express as px\n",
    "import plotly.graph_objects as go"
   ]
  },
  {
   "cell_type": "markdown",
   "id": "df6fe050",
   "metadata": {},
   "source": [
    "# Dataset At A Glance"
   ]
  },
  {
   "cell_type": "code",
   "execution_count": 4,
   "id": "db5af4de",
   "metadata": {},
   "outputs": [
    {
     "ename": "FileNotFoundError",
     "evalue": "[Errno 2] No such file or directory: 'Meteorite_Landings.csv'",
     "output_type": "error",
     "traceback": [
      "\u001b[0;31m---------------------------------------------------------------------------\u001b[0m",
      "\u001b[0;31mFileNotFoundError\u001b[0m                         Traceback (most recent call last)",
      "\u001b[0;32m/var/folders/06/b2y_2q792ds_1gxcn4qxghqm0000gn/T/ipykernel_58270/3772780660.py\u001b[0m in \u001b[0;36m<module>\u001b[0;34m\u001b[0m\n\u001b[0;32m----> 1\u001b[0;31m \u001b[0mdata\u001b[0m \u001b[0;34m=\u001b[0m \u001b[0mpd\u001b[0m\u001b[0;34m.\u001b[0m\u001b[0mread_csv\u001b[0m\u001b[0;34m(\u001b[0m\u001b[0;34m\"Meteorite_Landings.csv\"\u001b[0m\u001b[0;34m)\u001b[0m\u001b[0;34m\u001b[0m\u001b[0;34m\u001b[0m\u001b[0m\n\u001b[0m\u001b[1;32m      2\u001b[0m \u001b[0mdf\u001b[0m \u001b[0;34m=\u001b[0m \u001b[0mdata\u001b[0m\u001b[0;34m\u001b[0m\u001b[0;34m\u001b[0m\u001b[0m\n\u001b[1;32m      3\u001b[0m \u001b[0mdf\u001b[0m\u001b[0;34m\u001b[0m\u001b[0;34m\u001b[0m\u001b[0m\n",
      "\u001b[0;32m~/opt/anaconda3/lib/python3.9/site-packages/pandas/util/_decorators.py\u001b[0m in \u001b[0;36mwrapper\u001b[0;34m(*args, **kwargs)\u001b[0m\n\u001b[1;32m    309\u001b[0m                     \u001b[0mstacklevel\u001b[0m\u001b[0;34m=\u001b[0m\u001b[0mstacklevel\u001b[0m\u001b[0;34m,\u001b[0m\u001b[0;34m\u001b[0m\u001b[0;34m\u001b[0m\u001b[0m\n\u001b[1;32m    310\u001b[0m                 )\n\u001b[0;32m--> 311\u001b[0;31m             \u001b[0;32mreturn\u001b[0m \u001b[0mfunc\u001b[0m\u001b[0;34m(\u001b[0m\u001b[0;34m*\u001b[0m\u001b[0margs\u001b[0m\u001b[0;34m,\u001b[0m \u001b[0;34m**\u001b[0m\u001b[0mkwargs\u001b[0m\u001b[0;34m)\u001b[0m\u001b[0;34m\u001b[0m\u001b[0;34m\u001b[0m\u001b[0m\n\u001b[0m\u001b[1;32m    312\u001b[0m \u001b[0;34m\u001b[0m\u001b[0m\n\u001b[1;32m    313\u001b[0m         \u001b[0;32mreturn\u001b[0m \u001b[0mwrapper\u001b[0m\u001b[0;34m\u001b[0m\u001b[0;34m\u001b[0m\u001b[0m\n",
      "\u001b[0;32m~/opt/anaconda3/lib/python3.9/site-packages/pandas/io/parsers/readers.py\u001b[0m in \u001b[0;36mread_csv\u001b[0;34m(filepath_or_buffer, sep, delimiter, header, names, index_col, usecols, squeeze, prefix, mangle_dupe_cols, dtype, engine, converters, true_values, false_values, skipinitialspace, skiprows, skipfooter, nrows, na_values, keep_default_na, na_filter, verbose, skip_blank_lines, parse_dates, infer_datetime_format, keep_date_col, date_parser, dayfirst, cache_dates, iterator, chunksize, compression, thousands, decimal, lineterminator, quotechar, quoting, doublequote, escapechar, comment, encoding, encoding_errors, dialect, error_bad_lines, warn_bad_lines, on_bad_lines, delim_whitespace, low_memory, memory_map, float_precision, storage_options)\u001b[0m\n\u001b[1;32m    676\u001b[0m     \u001b[0mkwds\u001b[0m\u001b[0;34m.\u001b[0m\u001b[0mupdate\u001b[0m\u001b[0;34m(\u001b[0m\u001b[0mkwds_defaults\u001b[0m\u001b[0;34m)\u001b[0m\u001b[0;34m\u001b[0m\u001b[0;34m\u001b[0m\u001b[0m\n\u001b[1;32m    677\u001b[0m \u001b[0;34m\u001b[0m\u001b[0m\n\u001b[0;32m--> 678\u001b[0;31m     \u001b[0;32mreturn\u001b[0m \u001b[0m_read\u001b[0m\u001b[0;34m(\u001b[0m\u001b[0mfilepath_or_buffer\u001b[0m\u001b[0;34m,\u001b[0m \u001b[0mkwds\u001b[0m\u001b[0;34m)\u001b[0m\u001b[0;34m\u001b[0m\u001b[0;34m\u001b[0m\u001b[0m\n\u001b[0m\u001b[1;32m    679\u001b[0m \u001b[0;34m\u001b[0m\u001b[0m\n\u001b[1;32m    680\u001b[0m \u001b[0;34m\u001b[0m\u001b[0m\n",
      "\u001b[0;32m~/opt/anaconda3/lib/python3.9/site-packages/pandas/io/parsers/readers.py\u001b[0m in \u001b[0;36m_read\u001b[0;34m(filepath_or_buffer, kwds)\u001b[0m\n\u001b[1;32m    573\u001b[0m \u001b[0;34m\u001b[0m\u001b[0m\n\u001b[1;32m    574\u001b[0m     \u001b[0;31m# Create the parser.\u001b[0m\u001b[0;34m\u001b[0m\u001b[0;34m\u001b[0m\u001b[0m\n\u001b[0;32m--> 575\u001b[0;31m     \u001b[0mparser\u001b[0m \u001b[0;34m=\u001b[0m \u001b[0mTextFileReader\u001b[0m\u001b[0;34m(\u001b[0m\u001b[0mfilepath_or_buffer\u001b[0m\u001b[0;34m,\u001b[0m \u001b[0;34m**\u001b[0m\u001b[0mkwds\u001b[0m\u001b[0;34m)\u001b[0m\u001b[0;34m\u001b[0m\u001b[0;34m\u001b[0m\u001b[0m\n\u001b[0m\u001b[1;32m    576\u001b[0m \u001b[0;34m\u001b[0m\u001b[0m\n\u001b[1;32m    577\u001b[0m     \u001b[0;32mif\u001b[0m \u001b[0mchunksize\u001b[0m \u001b[0;32mor\u001b[0m \u001b[0miterator\u001b[0m\u001b[0;34m:\u001b[0m\u001b[0;34m\u001b[0m\u001b[0;34m\u001b[0m\u001b[0m\n",
      "\u001b[0;32m~/opt/anaconda3/lib/python3.9/site-packages/pandas/io/parsers/readers.py\u001b[0m in \u001b[0;36m__init__\u001b[0;34m(self, f, engine, **kwds)\u001b[0m\n\u001b[1;32m    930\u001b[0m \u001b[0;34m\u001b[0m\u001b[0m\n\u001b[1;32m    931\u001b[0m         \u001b[0mself\u001b[0m\u001b[0;34m.\u001b[0m\u001b[0mhandles\u001b[0m\u001b[0;34m:\u001b[0m \u001b[0mIOHandles\u001b[0m \u001b[0;34m|\u001b[0m \u001b[0;32mNone\u001b[0m \u001b[0;34m=\u001b[0m \u001b[0;32mNone\u001b[0m\u001b[0;34m\u001b[0m\u001b[0;34m\u001b[0m\u001b[0m\n\u001b[0;32m--> 932\u001b[0;31m         \u001b[0mself\u001b[0m\u001b[0;34m.\u001b[0m\u001b[0m_engine\u001b[0m \u001b[0;34m=\u001b[0m \u001b[0mself\u001b[0m\u001b[0;34m.\u001b[0m\u001b[0m_make_engine\u001b[0m\u001b[0;34m(\u001b[0m\u001b[0mf\u001b[0m\u001b[0;34m,\u001b[0m \u001b[0mself\u001b[0m\u001b[0;34m.\u001b[0m\u001b[0mengine\u001b[0m\u001b[0;34m)\u001b[0m\u001b[0;34m\u001b[0m\u001b[0;34m\u001b[0m\u001b[0m\n\u001b[0m\u001b[1;32m    933\u001b[0m \u001b[0;34m\u001b[0m\u001b[0m\n\u001b[1;32m    934\u001b[0m     \u001b[0;32mdef\u001b[0m \u001b[0mclose\u001b[0m\u001b[0;34m(\u001b[0m\u001b[0mself\u001b[0m\u001b[0;34m)\u001b[0m\u001b[0;34m:\u001b[0m\u001b[0;34m\u001b[0m\u001b[0;34m\u001b[0m\u001b[0m\n",
      "\u001b[0;32m~/opt/anaconda3/lib/python3.9/site-packages/pandas/io/parsers/readers.py\u001b[0m in \u001b[0;36m_make_engine\u001b[0;34m(self, f, engine)\u001b[0m\n\u001b[1;32m   1214\u001b[0m             \u001b[0;31m# \"Union[str, PathLike[str], ReadCsvBuffer[bytes], ReadCsvBuffer[str]]\"\u001b[0m\u001b[0;34m\u001b[0m\u001b[0;34m\u001b[0m\u001b[0m\n\u001b[1;32m   1215\u001b[0m             \u001b[0;31m# , \"str\", \"bool\", \"Any\", \"Any\", \"Any\", \"Any\", \"Any\"\u001b[0m\u001b[0;34m\u001b[0m\u001b[0;34m\u001b[0m\u001b[0m\n\u001b[0;32m-> 1216\u001b[0;31m             self.handles = get_handle(  # type: ignore[call-overload]\n\u001b[0m\u001b[1;32m   1217\u001b[0m                 \u001b[0mf\u001b[0m\u001b[0;34m,\u001b[0m\u001b[0;34m\u001b[0m\u001b[0;34m\u001b[0m\u001b[0m\n\u001b[1;32m   1218\u001b[0m                 \u001b[0mmode\u001b[0m\u001b[0;34m,\u001b[0m\u001b[0;34m\u001b[0m\u001b[0;34m\u001b[0m\u001b[0m\n",
      "\u001b[0;32m~/opt/anaconda3/lib/python3.9/site-packages/pandas/io/common.py\u001b[0m in \u001b[0;36mget_handle\u001b[0;34m(path_or_buf, mode, encoding, compression, memory_map, is_text, errors, storage_options)\u001b[0m\n\u001b[1;32m    784\u001b[0m         \u001b[0;32mif\u001b[0m \u001b[0mioargs\u001b[0m\u001b[0;34m.\u001b[0m\u001b[0mencoding\u001b[0m \u001b[0;32mand\u001b[0m \u001b[0;34m\"b\"\u001b[0m \u001b[0;32mnot\u001b[0m \u001b[0;32min\u001b[0m \u001b[0mioargs\u001b[0m\u001b[0;34m.\u001b[0m\u001b[0mmode\u001b[0m\u001b[0;34m:\u001b[0m\u001b[0;34m\u001b[0m\u001b[0;34m\u001b[0m\u001b[0m\n\u001b[1;32m    785\u001b[0m             \u001b[0;31m# Encoding\u001b[0m\u001b[0;34m\u001b[0m\u001b[0;34m\u001b[0m\u001b[0m\n\u001b[0;32m--> 786\u001b[0;31m             handle = open(\n\u001b[0m\u001b[1;32m    787\u001b[0m                 \u001b[0mhandle\u001b[0m\u001b[0;34m,\u001b[0m\u001b[0;34m\u001b[0m\u001b[0;34m\u001b[0m\u001b[0m\n\u001b[1;32m    788\u001b[0m                 \u001b[0mioargs\u001b[0m\u001b[0;34m.\u001b[0m\u001b[0mmode\u001b[0m\u001b[0;34m,\u001b[0m\u001b[0;34m\u001b[0m\u001b[0;34m\u001b[0m\u001b[0m\n",
      "\u001b[0;31mFileNotFoundError\u001b[0m: [Errno 2] No such file or directory: 'Meteorite_Landings.csv'"
     ]
    }
   ],
   "source": [
    "data = pd.read_csv(\"Meteorite_Landings.csv\")\n",
    "df = data\n",
    "df"
   ]
  },
  {
   "cell_type": "markdown",
   "id": "70e13cf0",
   "metadata": {},
   "source": [
    "# Insights about the dataset"
   ]
  },
  {
   "cell_type": "code",
   "execution_count": 5,
   "id": "f78f42d3",
   "metadata": {},
   "outputs": [
    {
     "ename": "NameError",
     "evalue": "name 'data' is not defined",
     "output_type": "error",
     "traceback": [
      "\u001b[0;31m---------------------------------------------------------------------------\u001b[0m",
      "\u001b[0;31mNameError\u001b[0m                                 Traceback (most recent call last)",
      "\u001b[0;32m/var/folders/06/b2y_2q792ds_1gxcn4qxghqm0000gn/T/ipykernel_58270/169168403.py\u001b[0m in \u001b[0;36m<module>\u001b[0;34m\u001b[0m\n\u001b[0;32m----> 1\u001b[0;31m \u001b[0mdata\u001b[0m\u001b[0;34m.\u001b[0m\u001b[0minfo\u001b[0m\u001b[0;34m(\u001b[0m\u001b[0;34m)\u001b[0m\u001b[0;34m\u001b[0m\u001b[0;34m\u001b[0m\u001b[0m\n\u001b[0m",
      "\u001b[0;31mNameError\u001b[0m: name 'data' is not defined"
     ]
    }
   ],
   "source": [
    "data.info()"
   ]
  },
  {
   "cell_type": "code",
   "execution_count": 6,
   "id": "2926873e",
   "metadata": {},
   "outputs": [
    {
     "ename": "NameError",
     "evalue": "name 'data' is not defined",
     "output_type": "error",
     "traceback": [
      "\u001b[0;31m---------------------------------------------------------------------------\u001b[0m",
      "\u001b[0;31mNameError\u001b[0m                                 Traceback (most recent call last)",
      "\u001b[0;32m/var/folders/06/b2y_2q792ds_1gxcn4qxghqm0000gn/T/ipykernel_58270/1191450095.py\u001b[0m in \u001b[0;36m<module>\u001b[0;34m\u001b[0m\n\u001b[1;32m      1\u001b[0m \u001b[0;31m# No of Rows,Columns in dataframe\u001b[0m\u001b[0;34m\u001b[0m\u001b[0;34m\u001b[0m\u001b[0m\n\u001b[0;32m----> 2\u001b[0;31m \u001b[0mdata\u001b[0m\u001b[0;34m.\u001b[0m\u001b[0mshape\u001b[0m\u001b[0;34m\u001b[0m\u001b[0;34m\u001b[0m\u001b[0m\n\u001b[0m",
      "\u001b[0;31mNameError\u001b[0m: name 'data' is not defined"
     ]
    }
   ],
   "source": [
    "# No of Rows,Columns in dataframe\n",
    "data.shape"
   ]
  },
  {
   "cell_type": "markdown",
   "id": "ca36220b",
   "metadata": {},
   "source": [
    "# Handling Missing Values"
   ]
  },
  {
   "cell_type": "code",
   "execution_count": null,
   "id": "abb573f7",
   "metadata": {},
   "outputs": [],
   "source": [
    "#columns with missing values\n",
    "data.isnull().sum()"
   ]
  },
  {
   "cell_type": "code",
   "execution_count": null,
   "id": "20983ce4",
   "metadata": {},
   "outputs": [],
   "source": [
    "#missing value %\n",
    "data.isnull().sum().sum()/data.size * 100"
   ]
  },
  {
   "cell_type": "code",
   "execution_count": null,
   "id": "0ce5b784",
   "metadata": {},
   "outputs": [],
   "source": [
    "#Focusing individual columns\n",
    "meteor = data['mass (g)'].value_counts(dropna=False)\n",
    "meteor"
   ]
  },
  {
   "cell_type": "code",
   "execution_count": null,
   "id": "303dcce0",
   "metadata": {},
   "outputs": [],
   "source": [
    "# 'mass(g)' in some cases in NaN\n",
    "# Replacing NaN with median of column\n",
    "data['mass (g)'].fillna(data['mass (g)'].median(), inplace=True)\n",
    "\n",
    "# verifying values to check if NaNs are replaced by median value\n",
    "data['mass (g)'].unique()"
   ]
  },
  {
   "cell_type": "code",
   "execution_count": null,
   "id": "377ffafa",
   "metadata": {},
   "outputs": [],
   "source": [
    "# year column\n",
    "meteor_year = data['year'].value_counts(dropna=False)\n",
    "meteor_year"
   ]
  },
  {
   "cell_type": "code",
   "execution_count": null,
   "id": "336c71c2",
   "metadata": {},
   "outputs": [],
   "source": [
    "# Find the mode of the 'year' column\n",
    "year_mode = data['year'].mode()[0]\n",
    "\n",
    "# Replace missing values in 'year' column with mode\n",
    "data['year'].fillna(year_mode, inplace=True)\n",
    "\n",
    "# verifying values to check if they are replaced by median value\n",
    "data['year'].unique()"
   ]
  },
  {
   "cell_type": "code",
   "execution_count": null,
   "id": "6f246433",
   "metadata": {},
   "outputs": [],
   "source": [
    "# reclat and reclong column updates\n",
    "meteor_latitude = data['reclat'].value_counts(dropna=False)\n",
    "meteor_longitude = data['reclong'].value_counts(dropna=False)\n",
    "print(meteor_latitude)\n",
    "print(meteor_longitude)"
   ]
  },
  {
   "cell_type": "code",
   "execution_count": null,
   "id": "a4a1c15b",
   "metadata": {},
   "outputs": [],
   "source": [
    "# Replace missing values in 'rectlat' and 'reclong' columns with median\n",
    "data['reclat'].fillna(data['reclat'].median(), inplace=True)\n",
    "data['reclong'].fillna(data['reclong'].median(), inplace=True)\n",
    "\n",
    "# Verify that missing values have been replaced with median\n",
    "print(\"Latitude - \", data['reclat'].unique())\n",
    "print(\"Longitude - \", data['reclong'].unique())"
   ]
  },
  {
   "cell_type": "code",
   "execution_count": null,
   "id": "8053ca91",
   "metadata": {},
   "outputs": [],
   "source": [
    "#Final Validation of missing values\n",
    "data.isnull().sum()"
   ]
  },
  {
   "cell_type": "markdown",
   "id": "3751011a",
   "metadata": {},
   "source": [
    "# Number of Meteorites that fell in the 20th and 21st century"
   ]
  },
  {
   "cell_type": "code",
   "execution_count": null,
   "id": "19d5f809",
   "metadata": {},
   "outputs": [],
   "source": [
    "data_before_2000 = data[data['year'] < 2000]\n",
    "data_after_2000 = data[data['year'] >= 2000]\n",
    "# Grouping the data by year and count the number of meteorites that fell before and after the 21st century.\n",
    "counts_before_2000 = data_before_2000.groupby('year')['fall'].count()\n",
    "counts_after_2000 = data_after_2000.groupby('year')['fall'].count()\n",
    "\n",
    "# Plot for the line charts for each subset of data\n",
    "plt.plot(counts_before_2000.index, counts_before_2000.values, label='Before 2000')\n",
    "plt.plot(counts_after_2000.index, counts_after_2000.values, label='After 2000')\n",
    "plt.xlabel('Year')\n",
    "plt.xlim(1970,2013)\n",
    "plt.ylabel('Number of Meteorites')\n",
    "plt.title('Number of Meteorites that Fell Each Year')\n",
    "plt.legend()\n",
    "plt.show()"
   ]
  },
  {
   "cell_type": "markdown",
   "id": "448c6bd7",
   "metadata": {},
   "source": [
    "As per above line chart highest no. of meteorite observed  was 3323 in year 2003.No. of meteorite observed ranges very low from 1970-1977 but drastic increase can be seen towards year 1980. After 1985, the number of meteorites observed fluctuated, but there was an overall increase from 1985 to 2010. So we can conclude that there will more number of meteorites found in the near future."
   ]
  },
  {
   "cell_type": "markdown",
   "id": "ad7b70ba",
   "metadata": {},
   "source": [
    "# Total Number of Meteorites found before and after the 21st century"
   ]
  },
  {
   "cell_type": "code",
   "execution_count": null,
   "id": "55409e42",
   "metadata": {},
   "outputs": [],
   "source": [
    "# Create two dataframes for records before 2000 and after 2000\n",
    "df_before_2000 = data[data['year'] < 2000]\n",
    "df_after_2000 = data[data['year'] >= 2000]\n",
    "# Get the count of meteorites before and after 2000\n",
    "count_before_2000 = len(df_before_2000)\n",
    "count_after_2000 = len(df_after_2000)\n",
    "\n",
    "# Create a bar chart showing the total count of meteorites before and after 2000\n",
    "fig, ax = plt.subplots(figsize=(8, 6))\n",
    "ax.bar(['Before 2000', 'After 2000'], [count_before_2000, count_after_2000], color=['skyblue', 'lightgreen'])\n",
    "ax.set_title('Total Count of Meteorites Before and After 2000')\n",
    "ax.set_ylabel('Count')\n",
    "\n",
    "# Display count values inside each bar\n",
    "for i, v in enumerate([count_before_2000, count_after_2000]):\n",
    "    ax.text(i, v/2, str(v), color='black', fontweight='bold', ha='center', va='center')\n",
    "plt.show()\n"
   ]
  },
  {
   "cell_type": "markdown",
   "id": "894bf4e3",
   "metadata": {},
   "source": [
    "As per above Bar chart No. of meteorite observed before 2000  are 25704 which is 23% more than meteorite observed after 2000. Therefore, the average number of meteorites observed per year is higher for the after 2000 data (1972.1) than the before 2000 data (856.8). So we can conclude that there will more number of meteorites found in the near future."
   ]
  },
  {
   "cell_type": "markdown",
   "id": "4b2893ca",
   "metadata": {},
   "source": [
    "# Most prevalent classes of Meteorites before and after the 21st century"
   ]
  },
  {
   "cell_type": "code",
   "execution_count": null,
   "id": "25756fdf",
   "metadata": {},
   "outputs": [],
   "source": [
    "# Group the data by meteorite class and extract the first letter of each class name\n",
    "class_first_letter = data.groupby('recclass')['recclass'].apply(lambda x: x.str[0])\n",
    "\n",
    "# Count the number of occurrences of each unique first letter for all classes\n",
    "class_first_letter_counts = class_first_letter.value_counts()\n",
    "\n",
    "# Select the top 5 classes by unique first letter count\n",
    "top_classes = class_first_letter_counts.head(5)\n",
    "\n",
    "# Create a pie chart for the top 5 classes by unique first letter count\n",
    "fig, ax = plt.subplots(figsize=(8, 8))\n",
    "ax.pie(top_classes, labels=top_classes.index, autopct='%1.1f%%', startangle=90)\n",
    "ax.set_title('Top 5 Meteorite Classes by Unique First Letter Found')\n",
    "plt.show()\n"
   ]
  },
  {
   "cell_type": "markdown",
   "id": "1c4bd7d0",
   "metadata": {},
   "source": [
    "The above pie chart provides the top 5 classes of meteroties found."
   ]
  },
  {
   "cell_type": "code",
   "execution_count": null,
   "id": "75c153ec",
   "metadata": {},
   "outputs": [],
   "source": [
    "# Create a function to group similar recclass types\n",
    "def group_recclass(recclass):\n",
    "    if recclass.startswith('L'):\n",
    "        return 'L'\n",
    "    elif recclass.startswith('H'):\n",
    "        return 'H'\n",
    "    elif recclass.startswith('C'):\n",
    "        return 'C'\n",
    "    elif recclass.startswith('E'):\n",
    "        return 'E'\n",
    "    else:\n",
    "        return 'Other'\n",
    "\n",
    "# Create a new column 'recclass_group' by applying the group_recclass function to the 'recclass' column\n",
    "df['recclass_group'] = data['recclass'].apply(group_recclass)\n",
    "\n",
    "# Create two dataframes for records before 2000 and after 2000\n",
    "df_before_2000 = df[df['year'] < 2000]\n",
    "df_after_2000 = df[df['year'] >= 2000]\n",
    "\n",
    "# Get the value counts of the recclass_group column for both dataframes\n",
    "counts_before_2000 = df_before_2000['recclass_group'].value_counts()\n",
    "counts_after_2000 = df_after_2000['recclass_group'].value_counts()\n",
    "\n",
    "# Create two pie charts, one for before 2000 and one for after 2000\n",
    "fig, (ax1, ax2) = plt.subplots(1, 2, figsize=(10, 5))\n",
    "\n",
    "ax1.pie(counts_before_2000.values, labels=counts_before_2000.index, autopct='%1.1f%%')\n",
    "ax1.set_title('Records Before 2000')\n",
    "\n",
    "ax2.pie(counts_after_2000.values, labels=counts_after_2000.index, autopct='%1.1f%%')\n",
    "ax2.set_title('Records After 2000')\n",
    "\n",
    "plt.show()\n"
   ]
  },
  {
   "cell_type": "markdown",
   "id": "4142beb9",
   "metadata": {},
   "source": [
    "From the above pie chart through out the years observed, more than 80% of meteorite falls were in L and H class.However, the percentage of L class meteorites increased by 11.6%, while the percentage of H class meteorites decreased by 12.1%. This suggests that the composition of meteorites may be changing over time, with a relative increase in L class meteorites and a relative decrease in H class meteorites."
   ]
  },
  {
   "cell_type": "markdown",
   "id": "18c9aeb2",
   "metadata": {},
   "source": [
    "# Frequency distribution of Meteorite masses"
   ]
  },
  {
   "cell_type": "code",
   "execution_count": null,
   "id": "cb6ab828",
   "metadata": {},
   "outputs": [],
   "source": [
    "\n",
    "# Plot a histogram of meteorite masses\n",
    "plt.hist(data['mass (g)'], bins=100, range=(0, 100000))\n",
    "plt.xlabel('Meteorite Mass (grams)')\n",
    "plt.ylabel('Frequency')\n",
    "plt.xlim([0, 20000])\n",
    "plt.ylim([0, 2000])\n",
    "plt.title('Distribution of Meteorite Masses')\n",
    "plt.show()"
   ]
  },
  {
   "cell_type": "markdown",
   "id": "84572611",
   "metadata": {},
   "source": [
    "In the above histogram, most meteorites found are between 0 to 1000 grams range (around 40000).We limited the range to get a better visualization. As the mass increased after 7.5 kgs, the number of meteorites found have exponentially decreased and very heavy meteorites found were rare. We can conclude that more meteorites found are in mass range provided above."
   ]
  },
  {
   "cell_type": "markdown",
   "id": "89e09a2f",
   "metadata": {},
   "source": [
    "# Box plots of Total Mass of top meteorite class by first letter against mean mass"
   ]
  },
  {
   "cell_type": "code",
   "execution_count": null,
   "id": "d205b544",
   "metadata": {},
   "outputs": [],
   "source": [
    "filtered_data = data[['recclass', 'mass (g)']]\n",
    "\n",
    "# Group the filtered data by the first letter of the class and calculate the total mass of each group\n",
    "total_masses = filtered_data.groupby(filtered_data['recclass'].str[0])['mass (g)'].sum()\n",
    "\n",
    "# Sort the data in descending order by total mass and take the top 5 groups\n",
    "top_groups = total_masses.sort_values(ascending=False).head(5)\n",
    "\n",
    "# Filter the data to only include the top 5 groups\n",
    "filtered_data = filtered_data[filtered_data['recclass'].str[0].isin(top_groups.index)]\n",
    "\n",
    "# Convert mass from grams to kilograms\n",
    "filtered_data['mass (kg)'] = filtered_data['mass (g)'] / 1000.0\n",
    "\n",
    "# Calculate the interquartile range (IQR)\n",
    "q1, q3 = np.percentile(filtered_data['mass (kg)'], [25, 75])\n",
    "iqr = q3 - q1\n",
    "\n",
    "# Set the threshold for outliers\n",
    "threshold = 1.5 * iqr\n",
    "\n",
    "# Remove the outliers\n",
    "filtered_data = filtered_data.loc[abs(filtered_data['mass (kg)'] - np.median(filtered_data['mass (kg)'])) <= threshold]\n",
    "\n",
    "# Plot the box plots\n",
    "plt.figure(figsize=(10,6))\n",
    "plt.title('Total Mass and Mean Mass of Top 5 Meteorite Groups by First Letter of Class')\n",
    "plt.xlabel('First Letter of Class')\n",
    "plt.ylabel('Mass (kg)')\n",
    "plt.xticks(rotation=45)\n",
    "plt.boxplot([filtered_data[filtered_data['recclass'].str[0] == group]['mass (kg)'] for group in top_groups.index], showfliers=False)\n",
    "plt.xticks(range(1, len(top_groups.index)+1), top_groups.index)\n",
    "plt.plot(range(1, len(top_groups.index)+1), [np.mean(filtered_data[filtered_data['recclass'].str[0] == group]['mass (kg)']) for group in top_groups.index], 'ro')\n",
    "plt.show()"
   ]
  },
  {
   "cell_type": "markdown",
   "id": "2960029d",
   "metadata": {},
   "source": [
    "Box plots of the top classes of meteorites found shows their distribution against their mass.We can conclude that, the mean masses for the top 5 classes is less than 0.1 kg, indicating very small pieces of meteorites were found in large numbers."
   ]
  },
  {
   "cell_type": "markdown",
   "id": "8770d917",
   "metadata": {},
   "source": [
    "# Scatter Plot of Total classes of Meteorites found vs Latitude"
   ]
  },
  {
   "cell_type": "code",
   "execution_count": null,
   "id": "bc783369",
   "metadata": {},
   "outputs": [],
   "source": [
    "# Group the data by latitude and count the number of unique classes\n",
    "lat_counts = data.groupby('reclat')['recclass'].nunique()\n",
    "\n",
    "# Create scatter plot\n",
    "fig, ax = plt.subplots()\n",
    "ax.scatter(lat_counts.index, lat_counts.values)\n",
    "\n",
    "# set x-axis and y-axis limits\n",
    "plt.xlim(-90,90)\n",
    "plt.ylim(0, 30)\n",
    "\n",
    "# set axis labels\n",
    "plt.xlabel('Latitude')\n",
    "plt.ylabel('Total Classes of Meteorites')\n",
    "\n",
    "# Set title\n",
    "ax.set_title('Scatter Plot of Latitude vs Total Classes of Meteorites')\n",
    "\n",
    "# Show the plot\n",
    "plt.show()\n"
   ]
  },
  {
   "cell_type": "markdown",
   "id": "109814dd",
   "metadata": {},
   "source": [
    "As per above scatter plot highest no. of classes are observed near 30-degree latitude. Most meteorite falls occur between 30 degrees north and south latitude. This is likely because the Earth's magnetic field is weakest at the poles, making it more likely for meteorites to survive entry into the atmosphere."
   ]
  },
  {
   "cell_type": "markdown",
   "id": "b74a9cd9",
   "metadata": {},
   "source": [
    "# Heat Map of meteorites found on the globe"
   ]
  },
  {
   "cell_type": "code",
   "execution_count": null,
   "id": "a2b16d02",
   "metadata": {},
   "outputs": [],
   "source": [
    "\n",
    "# Filter the dataset to include only landings between 1970 and 2015\n",
    "meteorites = data[(data['year'] >= 1970) & (data['year'] <= 2015)]\n",
    "\n",
    "\n",
    "# Create an interactive map of the meteorite landings\n",
    "fig = px.scatter_geo(meteorites, lat='reclat', lon='reclong',\n",
    "                     color='year', hover_name='name',\n",
    "                     scope='world', projection='natural earth')\n",
    "\n",
    "# Add a title and adjust marker size\n",
    "fig.update_layout(title='Meteorite Landings on Earth (1970-2015)',\n",
    "                  geo=dict(landcolor='white', coastlinecolor='grey'),\n",
    "                  showlegend=True)\n",
    "fig.update_traces(marker=dict(size=4))\n",
    "\n",
    "# Divide the map into two parts above and below the equator\n",
    "fig.add_shape(type='rect', x0=-180, y0=0, x1=180, y1=90, fillcolor='rgba(0,0,255,0.1)',\n",
    "              line=dict(color='blue', width=2, dash='dot'))\n",
    "fig.add_shape(type='rect', x0=-180, y0=-90, x1=180, y1=0, fillcolor='rgba(255,0,0,0.1)',\n",
    "              line=dict(color='red', width=2, dash='dot'))\n",
    "\n",
    "# Add equator line\n",
    "eq_lat = [0] * 360\n",
    "eq_lon = [i for i in range(-180, 0)] + [i for i in range(0, 181)]\n",
    "fig.add_trace(go.Scattergeo(lat=eq_lat, lon=eq_lon, mode='lines',\n",
    "                             line=dict(color='black', width=2), showlegend = False, legendgroup='equator', name='Equator'))\n",
    "\n",
    "\n",
    "\n",
    "# Calculate the percentage of meteorites above, below, and on the equator\n",
    "meteorites_above_equator = meteorites[meteorites['reclat'] > 0]\n",
    "meteorites_below_equator = meteorites[meteorites['reclat'] < 0]\n",
    "meteorites_on_equator = meteorites[meteorites['reclat'] == 0]\n",
    "percent_above = meteorites_above_equator.shape[0] / meteorites.shape[0] * 100\n",
    "percent_below = meteorites_below_equator.shape[0] / meteorites.shape[0] * 100\n",
    "percent_on_equator = meteorites_on_equator.shape[0] / meteorites.shape[0] * 100\n",
    "\n",
    "# Print the results\n",
    "print(f'Percentage of meteorites above equator: {percent_above:.2f}%')\n",
    "print(f'Percentage of meteorites below equator: {percent_below:.2f}%')\n",
    "print(f'Percentage of meteorites on equator: {percent_on_equator:.2f}%')\n",
    "\n",
    "# Show the map\n",
    "fig.show()\n"
   ]
  },
  {
   "cell_type": "markdown",
   "id": "e54b3bd2",
   "metadata": {},
   "source": [
    "As per above heat map we can conclude that more meteors are found below the equator near the poles. Meteors found near equator are quite less because the Earth’s atmosphere is thicker and meteors enter at a shallow angle near the equator, so chances of meteors burning up or leaving the atmosphere are high."
   ]
  }
 ],
 "metadata": {
  "kernelspec": {
   "display_name": "Python 3 (ipykernel)",
   "language": "python",
   "name": "python3"
  },
  "language_info": {
   "codemirror_mode": {
    "name": "ipython",
    "version": 3
   },
   "file_extension": ".py",
   "mimetype": "text/x-python",
   "name": "python",
   "nbconvert_exporter": "python",
   "pygments_lexer": "ipython3",
   "version": "3.9.13"
  }
 },
 "nbformat": 4,
 "nbformat_minor": 5
}
